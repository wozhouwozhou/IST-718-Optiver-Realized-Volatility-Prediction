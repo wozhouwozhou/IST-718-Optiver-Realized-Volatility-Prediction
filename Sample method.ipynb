{
 "cells": [
  {
   "cell_type": "code",
   "execution_count": 1,
   "id": "ed95908b",
   "metadata": {},
   "outputs": [],
   "source": [
    "# Load the packages needed for this project\n",
    "# create spark and sparkcontext objects\n",
    "from pyspark.sql import SparkSession\n",
    "import numpy as np\n",
    "\n",
    "spark = SparkSession.builder.getOrCreate()\n",
    "sc = spark.sparkContext\n",
    "\n",
    "import pyspark\n",
    "from pyspark.ml import feature, regression, Pipeline, classification, pipeline, evaluation\n",
    "from pyspark.sql import functions as fn, Row\n",
    "from pyspark import sql\n",
    "\n",
    "import matplotlib.pyplot as plt\n",
    "import pandas as pd"
   ]
  },
  {
   "cell_type": "code",
   "execution_count": 2,
   "id": "6eab1844",
   "metadata": {},
   "outputs": [],
   "source": [
    "#Load the data\n",
    "book_example = pd.read_parquet('D:/Desktop/Jupyter Notebook/ist 718/project/optiver-realized-volatility-prediction/book_train.parquet/stock_id=0')\n",
    "trade_example =  pd.read_parquet('D:/Desktop/Jupyter Notebook/ist 718/project/optiver-realized-volatility-prediction/trade_train.parquet/stock_id=0')\n",
    "book_train = pd.read_csv('D:/Desktop/Jupyter Notebook/ist 718/project/optiver-realized-volatility-prediction/train.csv')\n",
    "stock_id = '0'\n",
    "book_example.loc[:,'stock_id'] = stock_id\n",
    "trade_example.loc[:,'stock_id'] = stock_id\n",
    "# Ground truth: Stock_id=0\n",
    "booktrain_0= book_train[book_train['stock_id']==0]"
   ]
  },
  {
   "cell_type": "code",
   "execution_count": 3,
   "id": "8cce59a7",
   "metadata": {},
   "outputs": [],
   "source": [
    "# Extract distinct time_id (There are the same time windows in all datasets of 127 stocks)\n",
    "book_spark_example= spark.createDataFrame(book_example)\n",
    "book_spark_example.registerTempTable('book_spark_example')\n",
    "time_id_index= spark.sql('select time_id from book_spark_example').dropDuplicates().\\\n",
    "                       select('time_id').toPandas().sort_values('time_id').reset_index(drop=True)     "
   ]
  },
  {
   "cell_type": "code",
   "execution_count": 4,
   "id": "e7b10779",
   "metadata": {},
   "outputs": [],
   "source": [
    "# Splits\n",
    "time_id_index_1=spark.createDataFrame(time_id_index)\n",
    "training_df_index, validation_df_index, testing_df_index = time_id_index_1.randomSplit([0.6, 0.3, 0.1], seed=0)\n",
    "training_df_index, validation_df_index, testing_df_index = training_df_index.toPandas(),\\\n",
    "                                                            validation_df_index.toPandas(), testing_df_index.toPandas()\n",
    "training_df_index= np.array(training_df_index['time_id'])\n",
    "validation_df_index=  np.array(validation_df_index['time_id'])\n",
    "testing_df_index= np.array(testing_df_index['time_id'])\n",
    "# Index match\n",
    "def dataset_split(row_index):\n",
    "    df=pd.DataFrame()\n",
    "    for n in row_index:\n",
    "        df= df.append(book_example[book_example['time_id']==n])\n",
    "    return df\n",
    "training_df= dataset_split(training_df_index)\n",
    "validation_df = dataset_split(validation_df_index)\n",
    "testing_df = dataset_split(testing_df_index)"
   ]
  },
  {
   "cell_type": "code",
   "execution_count": 5,
   "id": "d2727173",
   "metadata": {},
   "outputs": [],
   "source": [
    "def trade_split(row_index):\n",
    "    df=pd.DataFrame()\n",
    "    for n in row_index:\n",
    "        df= df.append(trade_example[trade_example['time_id']==n])\n",
    "    return df\n",
    "training_trade_df= trade_split(training_df_index)\n",
    "validation_trade_df = trade_split(validation_df_index)\n",
    "testing_trade_df = trade_split(testing_df_index)"
   ]
  },
  {
   "cell_type": "code",
   "execution_count": 6,
   "id": "c5284d81",
   "metadata": {},
   "outputs": [],
   "source": [
    "# Book splits \n",
    "#training_df\n",
    "#validation_df\n",
    "#testing_df\n",
    "\n",
    "# Trade splits\n",
    "#training_trade_df\n",
    "#validation_trade_df\n",
    "#testing_trade_df"
   ]
  }
 ],
 "metadata": {
  "kernelspec": {
   "display_name": "Python 3",
   "language": "python",
   "name": "python3"
  },
  "language_info": {
   "codemirror_mode": {
    "name": "ipython",
    "version": 3
   },
   "file_extension": ".py",
   "mimetype": "text/x-python",
   "name": "python",
   "nbconvert_exporter": "python",
   "pygments_lexer": "ipython3",
   "version": "3.8.8"
  }
 },
 "nbformat": 4,
 "nbformat_minor": 5
}
